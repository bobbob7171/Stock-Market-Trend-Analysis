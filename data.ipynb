{
 "cells": [
  {
   "cell_type": "code",
   "execution_count": 13,
   "id": "4c8d26a2",
   "metadata": {},
   "outputs": [
    {
     "name": "stderr",
     "output_type": "stream",
     "text": [
      "C:\\Users\\Admin\\AppData\\Local\\Temp\\ipykernel_16792\\2165431087.py:4: FutureWarning: YF.download() has changed argument auto_adjust default to True\n",
      "  df = yf.download(\"AAPL\", start=\"2020-01-01\", end=\"2025-01-01\")\n",
      "[*********************100%***********************]  1 of 1 completed\n"
     ]
    }
   ],
   "source": [
    "import yfinance as yf\n",
    "\n",
    "# Download historical data for Apple (AAPL)\n",
    "df = yf.download(\"AAPL\", start=\"2020-01-01\", end=\"2025-01-01\")\n",
    "\n",
    "# # Save to CSV for later use\n",
    "# df.to_csv(\"AAPL_stock.csv\")"
   ]
  },
  {
   "cell_type": "code",
   "execution_count": 14,
   "id": "15098e8a",
   "metadata": {},
   "outputs": [
    {
     "data": {
      "text/html": [
       "<div>\n",
       "<style scoped>\n",
       "    .dataframe tbody tr th:only-of-type {\n",
       "        vertical-align: middle;\n",
       "    }\n",
       "\n",
       "    .dataframe tbody tr th {\n",
       "        vertical-align: top;\n",
       "    }\n",
       "\n",
       "    .dataframe thead th {\n",
       "        text-align: right;\n",
       "    }\n",
       "</style>\n",
       "<table border=\"1\" class=\"dataframe\">\n",
       "  <thead>\n",
       "    <tr style=\"text-align: right;\">\n",
       "      <th></th>\n",
       "      <th>Close</th>\n",
       "      <th>High</th>\n",
       "      <th>Low</th>\n",
       "      <th>Open</th>\n",
       "      <th>Volume</th>\n",
       "    </tr>\n",
       "    <tr>\n",
       "      <th>Date</th>\n",
       "      <th></th>\n",
       "      <th></th>\n",
       "      <th></th>\n",
       "      <th></th>\n",
       "      <th></th>\n",
       "    </tr>\n",
       "  </thead>\n",
       "  <tbody>\n",
       "    <tr>\n",
       "      <th>2020-01-02</th>\n",
       "      <td>72.538506</td>\n",
       "      <td>72.598884</td>\n",
       "      <td>71.292296</td>\n",
       "      <td>71.545882</td>\n",
       "      <td>135480400</td>\n",
       "    </tr>\n",
       "    <tr>\n",
       "      <th>2020-01-03</th>\n",
       "      <td>71.833290</td>\n",
       "      <td>72.594055</td>\n",
       "      <td>71.608685</td>\n",
       "      <td>71.765667</td>\n",
       "      <td>146322800</td>\n",
       "    </tr>\n",
       "    <tr>\n",
       "      <th>2020-01-06</th>\n",
       "      <td>72.405678</td>\n",
       "      <td>72.444321</td>\n",
       "      <td>70.703012</td>\n",
       "      <td>70.954188</td>\n",
       "      <td>118387200</td>\n",
       "    </tr>\n",
       "    <tr>\n",
       "      <th>2020-01-07</th>\n",
       "      <td>72.065155</td>\n",
       "      <td>72.671348</td>\n",
       "      <td>71.845377</td>\n",
       "      <td>72.415345</td>\n",
       "      <td>108872000</td>\n",
       "    </tr>\n",
       "    <tr>\n",
       "      <th>2020-01-08</th>\n",
       "      <td>73.224403</td>\n",
       "      <td>73.526295</td>\n",
       "      <td>71.768079</td>\n",
       "      <td>71.768079</td>\n",
       "      <td>132079200</td>\n",
       "    </tr>\n",
       "  </tbody>\n",
       "</table>\n",
       "</div>"
      ],
      "text/plain": [
       "                Close       High        Low       Open     Volume\n",
       "Date                                                             \n",
       "2020-01-02  72.538506  72.598884  71.292296  71.545882  135480400\n",
       "2020-01-03  71.833290  72.594055  71.608685  71.765667  146322800\n",
       "2020-01-06  72.405678  72.444321  70.703012  70.954188  118387200\n",
       "2020-01-07  72.065155  72.671348  71.845377  72.415345  108872000\n",
       "2020-01-08  73.224403  73.526295  71.768079  71.768079  132079200"
      ]
     },
     "execution_count": 14,
     "metadata": {},
     "output_type": "execute_result"
    }
   ],
   "source": [
    "import pandas as pd\n",
    "import numpy as np\n",
    "import matplotlib.pyplot as plt\n",
    "from matplotlib.collections import LineCollection\n",
    "\n",
    "def load_data(file_path=\"data/AAPL_stock.csv\"):\n",
    "    # Skip first two rows and load dataset\n",
    "    df = pd.read_csv(file_path, skiprows=2)\n",
    "    \n",
    "    # Rename columns\n",
    "    df.columns = [\"Date\", \"Close\", \"High\", \"Low\", \"Open\", \"Volume\"]\n",
    "    \n",
    "    # Convert Date to datetime\n",
    "    df[\"Date\"] = pd.to_datetime(df[\"Date\"])\n",
    "    \n",
    "    # Ensure numeric columns are correct dtype\n",
    "    df[[\"Open\", \"High\", \"Low\", \"Close\", \"Volume\"]] = df[[\"Open\", \"High\", \"Low\", \"Close\", \"Volume\"]].apply(pd.to_numeric)\n",
    "    \n",
    "    # Set Date as index\n",
    "    df.set_index(\"Date\", inplace=True)\n",
    "    \n",
    "    # Sort by date\n",
    "    df.sort_index(inplace=True)\n",
    "    \n",
    "    return df\n",
    "\n",
    "# Load dataset\n",
    "data = load_data(\"data/AAPL_stock.csv\")\n",
    "data.head()"
   ]
  }
 ],
 "metadata": {
  "kernelspec": {
   "display_name": "py310",
   "language": "python",
   "name": "python3"
  },
  "language_info": {
   "codemirror_mode": {
    "name": "ipython",
    "version": 3
   },
   "file_extension": ".py",
   "mimetype": "text/x-python",
   "name": "python",
   "nbconvert_exporter": "python",
   "pygments_lexer": "ipython3",
   "version": "3.10.13"
  }
 },
 "nbformat": 4,
 "nbformat_minor": 5
}
